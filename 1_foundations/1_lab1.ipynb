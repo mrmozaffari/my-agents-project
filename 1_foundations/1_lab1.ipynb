{
 "cells": [
  {
   "cell_type": "markdown",
   "metadata": {},
   "source": [
    "# Welcome to the start of your adventure in Agentic AI"
   ]
  },
  {
   "cell_type": "markdown",
   "metadata": {},
   "source": [
    "<table style=\"margin: 0; text-align: left; width:100%\">\n",
    "    <tr>\n",
    "        <td style=\"width: 150px; height: 150px; vertical-align: middle;\">\n",
    "            <img src=\"../assets/stop.png\" width=\"150\" height=\"150\" style=\"display: block;\" />\n",
    "        </td>\n",
    "        <td>\n",
    "            <h2 style=\"color:#ff7800;\">Are you ready for action??</h2>\n",
    "            <span style=\"color:#ff7800;\">Have you completed all the setup steps in the <a href=\"../setup/\">setup</a> folder?<br/>\n",
    "            Have you read the <a href=\"../README.md\">README</a>? Many common questions are answered here!<br/>\n",
    "            Have you checked out the guides in the <a href=\"../guides/01_intro.ipynb\">guides</a> folder?<br/>\n",
    "            Well in that case, you're ready!!\n",
    "            </span>\n",
    "        </td>\n",
    "    </tr>\n",
    "</table>"
   ]
  },
  {
   "cell_type": "markdown",
   "metadata": {},
   "source": [
    "<table style=\"margin: 0; text-align: left; width:100%\">\n",
    "    <tr>\n",
    "        <td style=\"width: 150px; height: 150px; vertical-align: middle;\">\n",
    "            <img src=\"../assets/tools.png\" width=\"150\" height=\"150\" style=\"display: block;\" />\n",
    "        </td>\n",
    "        <td>\n",
    "            <h2 style=\"color:#00bfff;\">This code is a live resource - keep an eye out for my updates</h2>\n",
    "            <span style=\"color:#00bfff;\">I push updates regularly. As people ask questions or have problems, I add more examples and improve explanations. As a result, the code below might not be identical to the videos, as I've added more steps and better comments. Consider this like an interactive book that accompanies the lectures.<br/><br/>\n",
    "            I try to send emails regularly with important updates related to the course. You can find this in the 'Announcements' section of Udemy in the left sidebar. You can also choose to receive my emails via your Notification Settings in Udemy. I'm respectful of your inbox and always try to add value with my emails!\n",
    "            </span>\n",
    "        </td>\n",
    "    </tr>\n",
    "</table>"
   ]
  },
  {
   "cell_type": "markdown",
   "metadata": {},
   "source": [
    "### And please do remember to contact me if I can help\n",
    "\n",
    "And I love to connect: https://www.linkedin.com/in/eddonner/\n",
    "\n",
    "\n",
    "### New to Notebooks like this one? Head over to the guides folder!\n",
    "\n",
    "Just to check you've already added the Python and Jupyter extensions to Cursor, if not already installed:\n",
    "- Open extensions (View >> extensions)\n",
    "- Search for python, and when the results show, click on the ms-python one, and Install it if not already installed\n",
    "- Search for jupyter, and when the results show, click on the Microsoft one, and Install it if not already installed  \n",
    "Then View >> Explorer to bring back the File Explorer.\n",
    "\n",
    "And then:\n",
    "1. Click where it says \"Select Kernel\" near the top right, and select the option called `.venv (Python 3.12.9)` or similar, which should be the first choice or the most prominent choice. You may need to choose \"Python Environments\" first.\n",
    "2. Click in each \"cell\" below, starting with the cell immediately below this text, and press Shift+Enter to run\n",
    "3. Enjoy!\n",
    "\n",
    "After you click \"Select Kernel\", if there is no option like `.venv (Python 3.12.9)` then please do the following:  \n",
    "1. On Mac: From the Cursor menu, choose Settings >> VS Code Settings (NOTE: be sure to select `VSCode Settings` not `Cursor Settings`);  \n",
    "On Windows PC: From the File menu, choose Preferences >> VS Code Settings(NOTE: be sure to select `VSCode Settings` not `Cursor Settings`)  \n",
    "2. In the Settings search bar, type \"venv\"  \n",
    "3. In the field \"Path to folder with a list of Virtual Environments\" put the path to the project root, like C:\\Users\\username\\projects\\agents (on a Windows PC) or /Users/username/projects/agents (on Mac or Linux).  \n",
    "And then try again.\n",
    "\n",
    "Having problems with missing Python versions in that list? Have you ever used Anaconda before? It might be interferring. Quit Cursor, bring up a new command line, and make sure that your Anaconda environment is deactivated:    \n",
    "`conda deactivate`  \n",
    "And if you still have any problems with conda and python versions, it's possible that you will need to run this too:  \n",
    "`conda config --set auto_activate_base false`  \n",
    "and then from within the Agents directory, you should be able to run `uv python list` and see the Python 3.12 version."
   ]
  },
  {
   "cell_type": "code",
   "execution_count": null,
   "metadata": {},
   "outputs": [],
   "source": [
    "# First let's do an import. If you get an Import Error, double check that your Kernel is correct..\n",
    "\n",
    "from dotenv import load_dotenv\n"
   ]
  },
  {
   "cell_type": "code",
   "execution_count": null,
   "metadata": {},
   "outputs": [],
   "source": [
    "# Next it's time to load the API keys into environment variables\n",
    "# If this returns false, see the next cell!\n",
    "\n",
    "load_dotenv(override=True)"
   ]
  },
  {
   "cell_type": "markdown",
   "metadata": {},
   "source": [
    "### Wait, did that just output `False`??\n",
    "\n",
    "If so, the most common reason is that you didn't save your `.env` file after adding the key! Be sure to have saved.\n",
    "\n",
    "Also, make sure the `.env` file is named precisely `.env` and is in the project root directory (`agents`)\n",
    "\n",
    "By the way, your `.env` file should have a stop symbol next to it in Cursor on the left, and that's actually a good thing: that's Cursor saying to you, \"hey, I realize this is a file filled with secret information, and I'm not going to send it to an external AI to suggest changes, because your keys should not be shown to anyone else.\""
   ]
  },
  {
   "cell_type": "markdown",
   "metadata": {},
   "source": [
    "<table style=\"margin: 0; text-align: left; width:100%\">\n",
    "    <tr>\n",
    "        <td style=\"width: 150px; height: 150px; vertical-align: middle;\">\n",
    "            <img src=\"../assets/stop.png\" width=\"150\" height=\"150\" style=\"display: block;\" />\n",
    "        </td>\n",
    "        <td>\n",
    "            <h2 style=\"color:#ff7800;\">Final reminders</h2>\n",
    "            <span style=\"color:#ff7800;\">1. If you're not confident about Environment Variables or Web Endpoints / APIs, please read Topics 3 and 5 in this <a href=\"../guides/04_technical_foundations.ipynb\">technical foundations guide</a>.<br/>\n",
    "            2. If you want to use AIs other than OpenAI, like Gemini, DeepSeek or Ollama (free), please see the first section in this <a href=\"../guides/09_ai_apis_and_ollama.ipynb\">AI APIs guide</a>.<br/>\n",
    "            3. If you ever get a Name Error in Python, you can always fix it immediately; see the last section of this <a href=\"../guides/06_python_foundations.ipynb\">Python Foundations guide</a> and follow both tutorials and exercises.<br/>\n",
    "            </span>\n",
    "        </td>\n",
    "    </tr>\n",
    "</table>"
   ]
  },
  {
   "cell_type": "code",
   "execution_count": 51,
   "metadata": {},
   "outputs": [
    {
     "name": "stdout",
     "output_type": "stream",
     "text": [
      "DeepSeek API Key exists and begins sk-7a0d0\n"
     ]
    }
   ],
   "source": [
    "# Check the key - if you're not using OpenAI, check whichever key you're using! Ollama doesn't need a key.\n",
    "\n",
    "import os\n",
    "deepseek_api_key = os.getenv('DEEPSEEK_API_KEY')\n",
    "\n",
    "if deepseek_api_key:\n",
    "    print(f\"DeepSeek API Key exists and begins {deepseek_api_key[:8]}\")\n",
    "else:\n",
    "    print(\"DeepSeek API Key not set - please head to the troubleshooting guide in the setup folder\")\n",
    "    \n"
   ]
  },
  {
   "cell_type": "code",
   "execution_count": null,
   "metadata": {},
   "outputs": [],
   "source": [
    "# And now - the all important import statement\n",
    "# If you get an import error - head over to troubleshooting in the Setup folder\n",
    "# Even for other LLM providers like Gemini, you still use this OpenAI import - see Guide 9 for why\n",
    "\n",
    "from openai import OpenAI"
   ]
  },
  {
   "cell_type": "code",
   "execution_count": null,
   "metadata": {},
   "outputs": [],
   "source": [
    "# And now we'll create an instance of the OpenAI class\n",
    "# If you're not sure what it means to create an instance of a class - head over to the guides folder (guide 6)!\n",
    "# If you get a NameError - head over to the guides folder (guide 6)to learn about NameErrors - always instantly fixable\n",
    "# If you're not using OpenAI, you just need to slightly modify this - precise instructions are in the AI APIs guide (guide 9)\n",
    "\n",
    "openai = OpenAI(api_key=os.environ.get('DEEPSEEK_API_KEY'), base_url=\"https://api.deepseek.com\")\n",
    "print(openai.models.list())\n",
    "\n",
    "\n"
   ]
  },
  {
   "cell_type": "code",
   "execution_count": null,
   "metadata": {},
   "outputs": [],
   "source": [
    "# Create a list of messages in the familiar OpenAI format\n",
    "\n",
    "messages = [{\"role\": \"user\", \"content\": \"What is 2+2?\"}]"
   ]
  },
  {
   "cell_type": "code",
   "execution_count": null,
   "metadata": {},
   "outputs": [],
   "source": [
    "# And now call it! Any problems, head to the troubleshooting guide\n",
    "# This uses GPT 4.1 nano, the incredibly cheap model\n",
    "# The APIs guide (guide 9) has exact instructions for using even cheaper or free alternatives to OpenAI\n",
    "# If you get a NameError, head to the guides folder (guide 6) to learn about NameErrors - always instantly fixable\n",
    "\n",
    "response = openai.chat.completions.create(\n",
    "#    model=\"gpt-4.1-nano\",\n",
    "    model=\"deepseek-chat\",\n",
    "    messages=messages\n",
    ")\n",
    "\n",
    "print(response.choices[0].message.content)\n"
   ]
  },
  {
   "cell_type": "code",
   "execution_count": null,
   "metadata": {},
   "outputs": [],
   "source": [
    "# And now - let's ask for a question:\n",
    "\n",
    "question = \"Please propose a hard, challenging question to assess someone's IQ. Respond only with the question.\"\n",
    "#messages = [{\"role\": \"user\", \"content\": question}]\n",
    "messages = [{\"role\": \"user\", \"content\": question}]\n",
    "\n"
   ]
  },
  {
   "cell_type": "code",
   "execution_count": null,
   "metadata": {},
   "outputs": [],
   "source": [
    "# ask it - this uses GPT 4.1 mini, still cheap but more powerful than nano\n",
    "\n",
    "response = openai.chat.completions.create(\n",
    "    model=\"deepseek-chat\",\n",
    "    messages=messages\n",
    ")\n",
    "\n",
    "question = response.choices[0].message.content\n",
    "\n",
    "print(question)\n"
   ]
  },
  {
   "cell_type": "code",
   "execution_count": null,
   "metadata": {},
   "outputs": [],
   "source": [
    "# form a new messages list\n",
    "messages = [{\"role\": \"user\", \"content\": question}]\n"
   ]
  },
  {
   "cell_type": "code",
   "execution_count": null,
   "metadata": {},
   "outputs": [],
   "source": [
    "# Ask it again\n",
    "\n",
    "response = openai.chat.completions.create(\n",
    "    model=\"deepseek-chat\",\n",
    "    messages=messages\n",
    ")\n",
    "\n",
    "answer = response.choices[0].message.content\n",
    "print(answer)\n"
   ]
  },
  {
   "cell_type": "code",
   "execution_count": null,
   "metadata": {},
   "outputs": [],
   "source": [
    "from IPython.display import Markdown, display\n",
    "\n",
    "display(Markdown(answer))\n",
    "\n"
   ]
  },
  {
   "cell_type": "markdown",
   "metadata": {},
   "source": [
    "# Congratulations!\n",
    "\n",
    "That was a small, simple step in the direction of Agentic AI, with your new environment!\n",
    "\n",
    "Next time things get more interesting..."
   ]
  },
  {
   "cell_type": "markdown",
   "metadata": {},
   "source": [
    "<table style=\"margin: 0; text-align: left; width:100%\">\n",
    "    <tr>\n",
    "        <td style=\"width: 150px; height: 150px; vertical-align: middle;\">\n",
    "            <img src=\"../assets/exercise.png\" width=\"150\" height=\"150\" style=\"display: block;\" />\n",
    "        </td>\n",
    "        <td>\n",
    "            <h2 style=\"color:#ff7800;\">Exercise</h2>\n",
    "            <span style=\"color:#ff7800;\">Now try this commercial application:<br/>\n",
    "            First ask the LLM to pick a business area that might be worth exploring for an Agentic AI opportunity.<br/>\n",
    "            Then ask the LLM to present a pain-point in that industry - something challenging that might be ripe for an Agentic solution.<br/>\n",
    "            Finally have 3 third LLM call propose the Agentic AI solution. <br/>\n",
    "            We will cover this at up-coming labs, so don't worry if you're unsure.. just give it a try!\n",
    "            </span>\n",
    "        </td>\n",
    "    </tr>\n",
    "</table>"
   ]
  },
  {
   "cell_type": "code",
   "execution_count": null,
   "metadata": {},
   "outputs": [],
   "source": [
    "# First create the messages:\n",
    "\n",
    "messages = [{\"role\": \"user\", \"content\": \"Something here\"}]\n",
    "\n",
    "# Then make the first call:\n",
    "\n",
    "response =\n",
    "\n",
    "# Then read the business idea:\n",
    "\n",
    "business_idea = response.\n",
    "\n",
    "# And repeat! In the next message, include the business idea within the message"
   ]
  },
  {
   "cell_type": "markdown",
   "metadata": {},
   "source": []
  },
  {
   "cell_type": "code",
   "execution_count": 54,
   "metadata": {},
   "outputs": [
    {
     "name": "stdout",
     "output_type": "stream",
     "text": [
      "DeepSeek API Key exists and begins sk-7a0d0\n"
     ]
    }
   ],
   "source": [
    "import os\n",
    "deepseek_api_key = os.getenv('DEEPSEEK_API_KEY')\n",
    "\n",
    "if deepseek_api_key:\n",
    "    print(f\"DeepSeek API Key exists and begins {deepseek_api_key[:8]}\")\n",
    "else:\n",
    "    print(\"DeepSeek API Key not set - please head to the troubleshooting guide in the setup folder\")"
   ]
  },
  {
   "cell_type": "code",
   "execution_count": 56,
   "metadata": {},
   "outputs": [
    {
     "name": "stdout",
     "output_type": "stream",
     "text": [
      "**1-sentence description:** A sharp product strategist translates market signals, customer needs, and business objectives into a clear, actionable roadmap that delivers competitive advantage.\n",
      "\n",
      "**Why now:**\n",
      "\n",
      "*   **Market Pace:** Product cycles have compressed, requiring rapid, evidence-based decisions to capitalize on fleeting opportunities and avoid costly missteps.\n",
      "*   **Resource Scarcity:** With increased pressure on budgets and teams, a clear strategy is essential to focus resources on the few initiatives that will drive the most significant impact.\n"
     ]
    }
   ],
   "source": [
    "from openai import OpenAI\n",
    "openai = OpenAI(api_key=os.environ.get('DEEPSEEK_API_KEY'), base_url=\"https://api.deepseek.com\")\n",
    "\n",
    "# 1.Set the tone of the assistant\n",
    "\n",
    "SYSTEM = \"You are a sharp product strategist. Be concise, actionable, non-fluffy.\" + \"Give a 1-sentence description + 2 bullets on why now.\"\n",
    "messages = [{\"role\": \"system\", \"content\": SYSTEM}]\n",
    "\n",
    "response = openai.chat.completions.create(\n",
    "    model=\"deepseek-chat\",   # or \"deepseek-chat\"\n",
    "    messages=messages\n",
    ")\n",
    "\n",
    "print(response.choices[0].message.content)"
   ]
  },
  {
   "cell_type": "code",
   "execution_count": 62,
   "metadata": {},
   "outputs": [
    {
     "name": "stdout",
     "output_type": "stream",
     "text": [
      "Of course. One business area ripe for Agentic AI exploration is **Enterprise Procurement and Vendor Management**.\n",
      "\n",
      "This domain is complex, process-heavy, and involves significant cross-departmental coordination, making it a perfect candidate for automation and intelligent assistance.\n",
      "\n",
      "### The Business Area: Enterprise Procurement & Vendor Management\n",
      "\n",
      "This encompasses the entire lifecycle of acquiring goods and services, from identifying a need to paying the invoice and managing the supplier relationship.\n",
      "\n",
      "---\n",
      "\n",
      "### Why It's a Prime Opportunity for Agentic AI\n",
      "\n",
      "1.  **High Process Complexity & Volume:** The procurement process involves multiple steps (requisition, sourcing, RFQ/RFP, negotiation, contract signing, purchase order, receipt, payment) with numerous rules and approval workflows.\n",
      "2.  **Data Silos:** Critical information is locked in different systems: ERP (SAP, Oracle), CRM, email, contract repositories, and supplier portals. An agent can act as a unifying layer.\n",
      "3.  **Significant Cost Impact:** Inefficiencies (maverick spending, missed discounts, poor contract terms) directly hit the bottom line. An agent can optimize for cost savings.\n",
      "4.  **Compliance and Risk Aversion:** Companies have strict policies (spending limits, preferred suppliers, regulatory compliance). An agent can enforce these rules consistently, reducing human error and risk.\n",
      "5.  **Repetitive, Low-Variety Tasks:** Much of the work involves data entry, form filling, status checking, and sending follow-up emails—tasks ideal for automation.\n",
      "\n",
      "---\n",
      "\n",
      "### The Agentic AI Solution: The \"Strategic Procurement Agent\"\n",
      "\n",
      "This wouldn't be a single monolithic agent, but a **swarm or team of specialized agents** working together under a central orchestrator.\n",
      "\n",
      "**Key Agent Roles in the Swarm:**\n",
      "\n",
      "1.  **Intake & Requisition Agent:**\n",
      "    *   **Role:** Interacts with employees via a chat interface (e.g., Slack, Teams) to understand their needs.\n",
      "    *   **Capabilities:** Uses natural language to ask clarifying questions, suggests suitable items from the catalog, checks budgets, and auto-populates a requisition form. It can flag policy violations before submission.\n",
      "\n",
      "2.  **Sourcing & RFX Agent:**\n",
      "    *   **Role:** For non-catalog items, this agent finds and evaluates suppliers.\n",
      "    *   **Capabilities:** Scrapes supplier databases, analyzes historical performance data, and autonomously generates and sends RFQs (Request for Quotation) or RFPs. It can then parse responses and create a comparative analysis for a human manager.\n",
      "\n",
      "3.  **Negotiation Support Agent:**\n",
      "    *   **Role:** Acts as a co-pilot for human negotiators.\n",
      "    *   **Capabilities:** Analyzes contract terms against a benchmark database, suggests counter-offers on price and SLAs, and simulates negotiation outcomes based on different variables. It can even conduct initial, rule-based negotiations on straightforward items like unit price or delivery time.\n",
      "\n",
      "4.  **Contract Management Agent:**\n",
      "    *   **Role:** Manages the contract lifecycle.\n",
      "    *   **Capabilities:** Extracts key terms (renewal dates, termination clauses, pricing) from signed contracts, monitors compliance, and sends proactive alerts for renewals or breaches. It can auto-generate standard contract amendments.\n",
      "\n",
      "5.  **Procurement Orchestrator:**\n",
      "    *   **Role:** The \"conductor\" of the swarm.\n",
      "    *   **Capabilities:** Maintains the state of each procurement request, routes tasks between the specialized agents, escalates exceptions to humans, and provides a single pane of glass for tracking the entire process.\n",
      "\n",
      "---\n",
      "\n",
      "### The Value Proposition\n",
      "\n",
      "*   **Dramatic Efficiency Gains:** Reduces the procurement cycle time from weeks to days or hours by automating manual steps and parallelizing work.\n",
      "*   **Hard Cost Savings:** Identifies better suppliers, negotiates better terms, prevents maverick spending, and ensures compliance with discounted contracts.\n",
      "*   **Enhanced Compliance & Risk Mitigation:** Ensures every purchase follows company policy and regulatory requirements, creating a perfect audit trail.\n",
      "*   **Strategic Upskilling:** Frees up human procurement professionals from administrative tasks to focus on strategic supplier relationship management and complex, high-value negotiations.\n",
      "\n",
      "### Challenges to Consider\n",
      "\n",
      "*   **Integration Headaches:** Connecting to legacy ERPs, finance systems, and supplier portals can be complex and expensive.\n",
      "*   **Trust & Change Management:** Procurement is often risk-averse. The agent's recommendations and autonomous actions must be highly transparent and explainable to gain user trust.\n",
      "*   **Handling Exceptions:** The \"long tail\" of unusual, non-standard requests will always require human intervention. Designing a smooth human-in-the-loop handoff is critical.\n",
      "*   **Data Quality:** The agent's performance is dependent on the quality of the data in the underlying systems (e.g., clean supplier data, accurate contract repositories).\n",
      "\n",
      "**Conclusion:**\n",
      "\n",
      "Enterprise Procurement is a high-value, high-complexity domain where an Agentic AI system can deliver a compelling return on investment. By acting as an intelligent, automated, and interconnected workforce, it can transform a cost center into a strategic, value-driving function. The opportunity lies in building a system that doesn't just automate tasks, but actively reasons, plans, and executes to achieve optimal business outcomes.\n"
     ]
    }
   ],
   "source": [
    "\n",
    "# 2. First generate a business idea using chat.completions\n",
    "\n",
    "question = \"Pick a business area that might be worth exploring for an Agentic AI opportunity. \"\n",
    "messages = [{\"role\": \"user\", \"content\": question}]\n",
    "\n",
    "idea_resp = openai.chat.completions.create(\n",
    "    model=\"deepseek-chat\",\n",
    "    messages=messages\n",
    ")\n",
    "business_idea = idea_resp.choices[0].message.content\n",
    "print(business_idea)"
   ]
  },
  {
   "cell_type": "code",
   "execution_count": 63,
   "metadata": {},
   "outputs": [
    {
     "name": "stdout",
     "output_type": "stream",
     "text": [
      "Excellent question. Focusing on the pain points clarifies *why* this industry is such a compelling target for an Agentic AI solution.\n",
      "\n",
      "The core, overarching pain point in Enterprise Procurement and Vendor Management is:\n",
      "\n",
      "**The immense friction and inefficiency caused by a rigid, process-heavy system that is forced to operate across disconnected data silos and serve conflicting stakeholder needs.**\n",
      "\n",
      "This manifests in several critical, specific pain points for different roles:\n",
      "\n",
      "---\n",
      "\n",
      "### 1. For the Employee/End-User (The Requester)\n",
      "*   **\"It's Too Hard to Buy What I Need\":** The official process is often slow and confusing. Employees don't know the rules, can't find the right items in a bloated catalog, and get lost in complex approval forms. This leads to...\n",
      "*   **The \"Amazon Effect\":** Employees, frustrated by the corporate system, bypass it entirely. They use personal credit cards or find their own suppliers to get what they need quickly, creating \"maverick spending\" that is unmanaged, un-discounted, and a compliance nightmare.\n",
      "*   **Lack of Visibility and Slow Speed:** Once a request is submitted, it enters a \"black hole.\" The employee has no idea where it is in the process, leading to constant follow-up emails and calls to procurement and finance, wasting everyone's time.\n",
      "\n",
      "### 2. For the Procurement Professional\n",
      "*   **Administrative Overload:** They are buried in low-value tasks—chasing approvals, manually keying data from PDFs and emails into the ERP system, answering status queries, and correcting poorly filled-out requisition forms. This prevents them from doing their *actual job* of strategic sourcing and negotiation.\n",
      "*   **Firefighting and Policy Enforcement:** They spend a disproportionate amount of time playing \"procurement police,\" tracking down and stopping maverick spending, and explaining policy violations after the fact, rather than preventing them.\n",
      "*   **Data Silos Cripple Strategic Insight:** Critical data is locked away. Supplier performance data is in one system, contract terms in another (or in an email inbox), and spend data in the ERP. It's incredibly time-consuming to get a holistic view to answer basic strategic questions like, \"Are we getting the best price from our top 10 suppliers?\"\n",
      "\n",
      "### 3. For the Finance Team\n",
      "*   **Lack of Spend Control and Visibility:** Finance cannot get an accurate, real-time picture of committed spend (money owed via POs) versus actual spend (invoices paid). This makes budgeting and forecasting difficult and inaccurate.\n",
      "*   **Invoice-to-Pay Inefficiencies:** When the procurement process is broken, it creates chaos downstream. Invoices arrive for items that weren't properly approved, don't match a Purchase Order, or are from non-preferred suppliers. This leads to delayed payments, missed early-payment discounts, and strained supplier relationships.\n",
      "*   **Audit and Compliance Risks:** A messy, non-compliant procurement process is a major red flag during internal and external audits. The lack of a clear, digital paper trail for every purchase creates significant financial and regulatory risk.\n",
      "\n",
      "### 4. For the Organization as a Whole\n",
      "*   **Leakage of Hard Cash:** This is the ultimate bottom-line pain. It comes from:\n",
      "    *   **Maverick Spending:** Paying retail prices instead of negotiated corporate rates.\n",
      "    *   **Missed Discounts:** Failing to take advantage of early-payment terms.\n",
      "    *   **Sub-optimal Contracts:** Auto-renewing contracts with unfavorable terms because no one was tracking them.\n",
      "*   **Operational Inefficiency:** The collective time wasted by employees, procurement, and finance on navigating a broken process represents a massive, hidden operational cost.\n",
      "*   **Supplier Risk:** Without a centralized system, it's hard to monitor supplier financial health, performance, or compliance (e.g., cybersecurity, ESG goals), exposing the company to supply chain disruptions.\n",
      "\n",
      "---\n",
      "\n",
      "### How Agentic AI Directly Addresses These Pain Points\n",
      "\n",
      "*   **For the Employee:** The **Intake Agent** makes buying as easy as chatting, eliminating the friction that causes maverick spending.\n",
      "*   **For Procurement:** The agent swarm **automates the administrative burden**, freeing them for strategic work. The **Sourcing and Contract Agents** break down data silos, providing the strategic insight they lack.\n",
      "*   **For Finance:** The **Orchestrator** provides end-to-end visibility and a perfect audit trail, ensuring spend control and compliance from the very first request.\n",
      "*   **For the Organization:** The system **systematically plugs cash leakage** by enforcing policy, optimizing sourcing, and managing contracts proactively.\n",
      "\n",
      "In short, the pain point isn't just that procurement is slow; it's that the current process is a **massive source of operational drag, financial waste, and strategic blindness** for the entire organization. Agentic AI offers a path to transform it from a cost center into a controlled, efficient, and value-driving engine.\n"
     ]
    }
   ],
   "source": [
    "# 3. First generate a business idea using chat.completions\n",
    "\n",
    "question = \"What is the pain point in this industry?\"\n",
    "messages = [{\"role\": \"assistant\", \"content\": business_idea}, {\"role\": \"user\", \"content\": question}]\n",
    "\n",
    "response = openai.chat.completions.create(\n",
    "    model=\"deepseek-chat\",\n",
    "    messages=messages\n",
    ")\n",
    "\n",
    "pain_point = response.choices[0].message.content;\n",
    "print(pain_point)"
   ]
  },
  {
   "cell_type": "code",
   "execution_count": 64,
   "metadata": {},
   "outputs": [
    {
     "data": {
      "text/markdown": [
       "Excellent question. Focusing on the pain points clarifies *why* this industry is such a compelling target for an Agentic AI solution.\n",
       "\n",
       "The core, overarching pain point in Enterprise Procurement and Vendor Management is:\n",
       "\n",
       "**The immense friction and inefficiency caused by a rigid, process-heavy system that is forced to operate across disconnected data silos and serve conflicting stakeholder needs.**\n",
       "\n",
       "This manifests in several critical, specific pain points for different roles:\n",
       "\n",
       "---\n",
       "\n",
       "### 1. For the Employee/End-User (The Requester)\n",
       "*   **\"It's Too Hard to Buy What I Need\":** The official process is often slow and confusing. Employees don't know the rules, can't find the right items in a bloated catalog, and get lost in complex approval forms. This leads to...\n",
       "*   **The \"Amazon Effect\":** Employees, frustrated by the corporate system, bypass it entirely. They use personal credit cards or find their own suppliers to get what they need quickly, creating \"maverick spending\" that is unmanaged, un-discounted, and a compliance nightmare.\n",
       "*   **Lack of Visibility and Slow Speed:** Once a request is submitted, it enters a \"black hole.\" The employee has no idea where it is in the process, leading to constant follow-up emails and calls to procurement and finance, wasting everyone's time.\n",
       "\n",
       "### 2. For the Procurement Professional\n",
       "*   **Administrative Overload:** They are buried in low-value tasks—chasing approvals, manually keying data from PDFs and emails into the ERP system, answering status queries, and correcting poorly filled-out requisition forms. This prevents them from doing their *actual job* of strategic sourcing and negotiation.\n",
       "*   **Firefighting and Policy Enforcement:** They spend a disproportionate amount of time playing \"procurement police,\" tracking down and stopping maverick spending, and explaining policy violations after the fact, rather than preventing them.\n",
       "*   **Data Silos Cripple Strategic Insight:** Critical data is locked away. Supplier performance data is in one system, contract terms in another (or in an email inbox), and spend data in the ERP. It's incredibly time-consuming to get a holistic view to answer basic strategic questions like, \"Are we getting the best price from our top 10 suppliers?\"\n",
       "\n",
       "### 3. For the Finance Team\n",
       "*   **Lack of Spend Control and Visibility:** Finance cannot get an accurate, real-time picture of committed spend (money owed via POs) versus actual spend (invoices paid). This makes budgeting and forecasting difficult and inaccurate.\n",
       "*   **Invoice-to-Pay Inefficiencies:** When the procurement process is broken, it creates chaos downstream. Invoices arrive for items that weren't properly approved, don't match a Purchase Order, or are from non-preferred suppliers. This leads to delayed payments, missed early-payment discounts, and strained supplier relationships.\n",
       "*   **Audit and Compliance Risks:** A messy, non-compliant procurement process is a major red flag during internal and external audits. The lack of a clear, digital paper trail for every purchase creates significant financial and regulatory risk.\n",
       "\n",
       "### 4. For the Organization as a Whole\n",
       "*   **Leakage of Hard Cash:** This is the ultimate bottom-line pain. It comes from:\n",
       "    *   **Maverick Spending:** Paying retail prices instead of negotiated corporate rates.\n",
       "    *   **Missed Discounts:** Failing to take advantage of early-payment terms.\n",
       "    *   **Sub-optimal Contracts:** Auto-renewing contracts with unfavorable terms because no one was tracking them.\n",
       "*   **Operational Inefficiency:** The collective time wasted by employees, procurement, and finance on navigating a broken process represents a massive, hidden operational cost.\n",
       "*   **Supplier Risk:** Without a centralized system, it's hard to monitor supplier financial health, performance, or compliance (e.g., cybersecurity, ESG goals), exposing the company to supply chain disruptions.\n",
       "\n",
       "---\n",
       "\n",
       "### How Agentic AI Directly Addresses These Pain Points\n",
       "\n",
       "*   **For the Employee:** The **Intake Agent** makes buying as easy as chatting, eliminating the friction that causes maverick spending.\n",
       "*   **For Procurement:** The agent swarm **automates the administrative burden**, freeing them for strategic work. The **Sourcing and Contract Agents** break down data silos, providing the strategic insight they lack.\n",
       "*   **For Finance:** The **Orchestrator** provides end-to-end visibility and a perfect audit trail, ensuring spend control and compliance from the very first request.\n",
       "*   **For the Organization:** The system **systematically plugs cash leakage** by enforcing policy, optimizing sourcing, and managing contracts proactively.\n",
       "\n",
       "In short, the pain point isn't just that procurement is slow; it's that the current process is a **massive source of operational drag, financial waste, and strategic blindness** for the entire organization. Agentic AI offers a path to transform it from a cost center into a controlled, efficient, and value-driving engine."
      ],
      "text/plain": [
       "<IPython.core.display.Markdown object>"
      ]
     },
     "metadata": {},
     "output_type": "display_data"
    }
   ],
   "source": [
    "from IPython.display import Markdown, display\n",
    "\n",
    "# Then read the business idea:\n",
    "display(Markdown(pain_point))\n"
   ]
  },
  {
   "cell_type": "code",
   "execution_count": 65,
   "metadata": {},
   "outputs": [
    {
     "name": "stdout",
     "output_type": "stream",
     "text": [
      "Excellent. The Agentic AI solution for the enterprise procurement pain points is a **swarm of specialized, collaborative AI agents** that automates the entire source-to-pay workflow, acting as an intelligent, proactive, and tireless digital procurement team.\n",
      "\n",
      "This isn't a single, monolithic AI. It's a system where different agents with specific roles and skills work together, passing tasks and context to one another to complete a complex process from start to finish.\n",
      "\n",
      "Here is a breakdown of this Agentic AI solution, mapping agents to the specific pain points they solve.\n",
      "\n",
      "### The Agentic AI Procurement Swarm\n",
      "\n",
      "Imagine an employee needs to buy a new software subscription. Here's how the agent swarm would handle it:\n",
      "\n",
      "---\n",
      "\n",
      "#### 1. The Intake & Triage Agent\n",
      "*   **Role:** The user-friendly front door. It's a conversational interface (like a chat) that anyone in the company can use.\n",
      "*   **How it Works:**\n",
      "    *   An employee types: \"I need a subscription to Figma for my design team for the next year.\"\n",
      "    *   The **Intake Agent** engages in a natural-language conversation to gather all necessary details: \"Sure, I can help with that. Which project code should this be billed to? What's the estimated annual cost? Do you need the Organization tier?\"\n",
      "    *   It then identifies the request type (software, services, goods), checks for policy compliance (e.g., \"We already have a corporate account with Adobe XD, let me check if that meets your needs\"), and determines the required approval path based on cost and category.\n",
      "*   **Pain Points Solved:**\n",
      "    *   **\"It's too hard to buy...\":** Makes requesting as easy as sending a message.\n",
      "    *   **\"The Amazon Effect\":** Provides a faster, easier *official* channel, eliminating the need for maverick spending.\n",
      "    *   **Administrative Overload:** Drastically reduces poorly filled-out forms that procurement would have to fix.\n",
      "\n",
      "#### 2. The Sourcing & Supplier Intelligence Agent\n",
      "*   **Role:** The strategic researcher and negotiator.\n",
      "*   **How it Works:**\n",
      "    *   For non-catalog items, this agent springs into action. It analyzes the request from the Intake Agent.\n",
      "    *   It first checks existing contracts: \"Do we have a preferred vendor or an active agreement for Figma?\"\n",
      "    *   If not, it autonomously researches the market: scouring supplier databases, checking ratings, and even using web browsing capabilities to find potential suppliers and gather market rates.\n",
      "    *   It can then initiate a \"mini-RFP\" by contacting shortlisted suppliers via email to gather quotes, all while keeping the procurement professional in the loop.\n",
      "*   **Pain Points Solved:**\n",
      "    *   **Data Silos:** Connects to contract repositories, supplier databases, and the open web to break down information barriers.\n",
      "    *   **Leakage of Hard Cash:** Ensures the company gets the best price by automating market checks and leveraging existing contracts.\n",
      "    *   **Administrative Overload:** Automates the tedious work of supplier research and initial RFQ processes.\n",
      "\n",
      "#### 3. The Contract & Risk Agent\n",
      "*   **Role:** The legal and compliance guardian.\n",
      "*   **How it Works:**\n",
      "    *   Once a supplier is selected, this agent reviews the contract or terms of service. It compares clauses (liability, termination, data security) against a library of approved standard terms.\n",
      "    *   It flags any non-standard or high-risk clauses for a human lawyer to review.\n",
      "    *   It also performs automated background checks on new suppliers for financial viability and cybersecurity risk.\n",
      "*   **Pain Points Solved:**\n",
      "    *   **Supplier Risk:** Proactively identifies and mitigates third-party risk.\n",
      "    *   **Audit and Compliance Risks:** Ensures every contract is vetted against corporate standards.\n",
      "    *   **Sub-optimal Contracts:** Prevents auto-renewal traps and unfavorable terms.\n",
      "\n",
      "#### 4. The Orchestrator & Workflow Agent\n",
      "*   **Role:** The project manager of the entire process.\n",
      "*   **How it Works:**\n",
      "    *   This is the \"brain\" of the operation. It knows the company's procurement policy inside and out.\n",
      "    *   It receives the structured request from the Intake Agent and decides which other agents need to be involved.\n",
      "    *   It routes the request for approvals, automatically escalating if an approver is out of office.\n",
      "    *   It creates the Purchase Order in the ERP system (like SAP or Oracle) and sends it to the supplier.\n",
      "    *   Most importantly, it provides **real-time status updates** to the original employee and the procurement team.\n",
      "*   **Pain Points Solved:**\n",
      "    *   **Lack of Visibility and Slow Speed:** Provides a real-time dashboard for every request, eliminating the \"black hole.\"\n",
      "    *   **Lack of Spend Control:** Ensures every single purchase follows the correct, auditable path.\n",
      "    *   **Operational Inefficiency:** Automates the routing, approval, and data entry tasks that slow everything down.\n",
      "\n",
      "#### 5. The Invoice & Payables Agent\n",
      "*   **Role:** The accounting clerk.\n",
      "*   **How it Works:**\n",
      "    *   When an invoice arrives (via email or portal), this agent reads it (using OCR/Vision), matches it to the corresponding PO and delivery receipt (3-way matching), and flags any discrepancies.\n",
      "    *   If everything matches, it schedules the payment for the optimal date to capture early-payment discounts.\n",
      "*   **Pain Points Solved:**\n",
      "    *   **Invoice-to-Pay Inefficiencies:** Automates the most labor-intensive part of the finance team's job.\n",
      "    *   **Missed Discounts:** Systematically identifies and acts on cost-saving opportunities.\n",
      "\n",
      "---\n",
      "\n",
      "### The \"Magic\" of the Swarm: How They Work Together\n",
      "\n",
      "The power isn't just in the individual agents, but in their collaboration, guided by the Orchestrator:\n",
      "\n",
      "1.  **Employee** chats with the **Intake Agent**.\n",
      "2.  The **Intake Agent** hands off a structured request to the **Orchestrator**.\n",
      "3.  The **Orchestrator** determines this is a new software request and involves the **Sourcing Agent**.\n",
      "4.  The **Sourcing Agent** finds a supplier and involves the **Contract Agent** to review terms.\n",
      "5.  The **Contract Agent** approves, and the **Orchestrator** routes it for financial approval and creates the PO.\n",
      "6.  Later, the **Invoice Agent** matches the invoice to the PO and schedules payment.\n",
      "\n",
      "**In summary, the Agentic AI solution transforms procurement from a rigid, process-centric burden into a fluid, intelligent, and user-centric service.** It doesn't just make the old process faster; it fundamentally reimagines it, placing a collaborative AI team at the center to eliminate friction, enforce control, and unlock strategic value.\n"
     ]
    }
   ],
   "source": [
    "# 4. Propose a solution\n",
    "\n",
    "question = \"What is the Agentic AI solution for this pain point?\"\n",
    "messages = [{\"role\": \"assistant\", \"content\": pain_point}, {\"role\": \"user\", \"content\": question}]\n",
    "\n",
    "solution_resp = openai.chat.completions.create(\n",
    "    model=\"deepseek-chat\",\n",
    "    messages=messages\n",
    ")\n",
    "\n",
    "solution = solution_resp.choices[0].message.content\n",
    "print(solution)\n"
   ]
  },
  {
   "cell_type": "code",
   "execution_count": 66,
   "metadata": {},
   "outputs": [
    {
     "data": {
      "text/markdown": [
       "Excellent. The Agentic AI solution for the enterprise procurement pain points is a **swarm of specialized, collaborative AI agents** that automates the entire source-to-pay workflow, acting as an intelligent, proactive, and tireless digital procurement team.\n",
       "\n",
       "This isn't a single, monolithic AI. It's a system where different agents with specific roles and skills work together, passing tasks and context to one another to complete a complex process from start to finish.\n",
       "\n",
       "Here is a breakdown of this Agentic AI solution, mapping agents to the specific pain points they solve.\n",
       "\n",
       "### The Agentic AI Procurement Swarm\n",
       "\n",
       "Imagine an employee needs to buy a new software subscription. Here's how the agent swarm would handle it:\n",
       "\n",
       "---\n",
       "\n",
       "#### 1. The Intake & Triage Agent\n",
       "*   **Role:** The user-friendly front door. It's a conversational interface (like a chat) that anyone in the company can use.\n",
       "*   **How it Works:**\n",
       "    *   An employee types: \"I need a subscription to Figma for my design team for the next year.\"\n",
       "    *   The **Intake Agent** engages in a natural-language conversation to gather all necessary details: \"Sure, I can help with that. Which project code should this be billed to? What's the estimated annual cost? Do you need the Organization tier?\"\n",
       "    *   It then identifies the request type (software, services, goods), checks for policy compliance (e.g., \"We already have a corporate account with Adobe XD, let me check if that meets your needs\"), and determines the required approval path based on cost and category.\n",
       "*   **Pain Points Solved:**\n",
       "    *   **\"It's too hard to buy...\":** Makes requesting as easy as sending a message.\n",
       "    *   **\"The Amazon Effect\":** Provides a faster, easier *official* channel, eliminating the need for maverick spending.\n",
       "    *   **Administrative Overload:** Drastically reduces poorly filled-out forms that procurement would have to fix.\n",
       "\n",
       "#### 2. The Sourcing & Supplier Intelligence Agent\n",
       "*   **Role:** The strategic researcher and negotiator.\n",
       "*   **How it Works:**\n",
       "    *   For non-catalog items, this agent springs into action. It analyzes the request from the Intake Agent.\n",
       "    *   It first checks existing contracts: \"Do we have a preferred vendor or an active agreement for Figma?\"\n",
       "    *   If not, it autonomously researches the market: scouring supplier databases, checking ratings, and even using web browsing capabilities to find potential suppliers and gather market rates.\n",
       "    *   It can then initiate a \"mini-RFP\" by contacting shortlisted suppliers via email to gather quotes, all while keeping the procurement professional in the loop.\n",
       "*   **Pain Points Solved:**\n",
       "    *   **Data Silos:** Connects to contract repositories, supplier databases, and the open web to break down information barriers.\n",
       "    *   **Leakage of Hard Cash:** Ensures the company gets the best price by automating market checks and leveraging existing contracts.\n",
       "    *   **Administrative Overload:** Automates the tedious work of supplier research and initial RFQ processes.\n",
       "\n",
       "#### 3. The Contract & Risk Agent\n",
       "*   **Role:** The legal and compliance guardian.\n",
       "*   **How it Works:**\n",
       "    *   Once a supplier is selected, this agent reviews the contract or terms of service. It compares clauses (liability, termination, data security) against a library of approved standard terms.\n",
       "    *   It flags any non-standard or high-risk clauses for a human lawyer to review.\n",
       "    *   It also performs automated background checks on new suppliers for financial viability and cybersecurity risk.\n",
       "*   **Pain Points Solved:**\n",
       "    *   **Supplier Risk:** Proactively identifies and mitigates third-party risk.\n",
       "    *   **Audit and Compliance Risks:** Ensures every contract is vetted against corporate standards.\n",
       "    *   **Sub-optimal Contracts:** Prevents auto-renewal traps and unfavorable terms.\n",
       "\n",
       "#### 4. The Orchestrator & Workflow Agent\n",
       "*   **Role:** The project manager of the entire process.\n",
       "*   **How it Works:**\n",
       "    *   This is the \"brain\" of the operation. It knows the company's procurement policy inside and out.\n",
       "    *   It receives the structured request from the Intake Agent and decides which other agents need to be involved.\n",
       "    *   It routes the request for approvals, automatically escalating if an approver is out of office.\n",
       "    *   It creates the Purchase Order in the ERP system (like SAP or Oracle) and sends it to the supplier.\n",
       "    *   Most importantly, it provides **real-time status updates** to the original employee and the procurement team.\n",
       "*   **Pain Points Solved:**\n",
       "    *   **Lack of Visibility and Slow Speed:** Provides a real-time dashboard for every request, eliminating the \"black hole.\"\n",
       "    *   **Lack of Spend Control:** Ensures every single purchase follows the correct, auditable path.\n",
       "    *   **Operational Inefficiency:** Automates the routing, approval, and data entry tasks that slow everything down.\n",
       "\n",
       "#### 5. The Invoice & Payables Agent\n",
       "*   **Role:** The accounting clerk.\n",
       "*   **How it Works:**\n",
       "    *   When an invoice arrives (via email or portal), this agent reads it (using OCR/Vision), matches it to the corresponding PO and delivery receipt (3-way matching), and flags any discrepancies.\n",
       "    *   If everything matches, it schedules the payment for the optimal date to capture early-payment discounts.\n",
       "*   **Pain Points Solved:**\n",
       "    *   **Invoice-to-Pay Inefficiencies:** Automates the most labor-intensive part of the finance team's job.\n",
       "    *   **Missed Discounts:** Systematically identifies and acts on cost-saving opportunities.\n",
       "\n",
       "---\n",
       "\n",
       "### The \"Magic\" of the Swarm: How They Work Together\n",
       "\n",
       "The power isn't just in the individual agents, but in their collaboration, guided by the Orchestrator:\n",
       "\n",
       "1.  **Employee** chats with the **Intake Agent**.\n",
       "2.  The **Intake Agent** hands off a structured request to the **Orchestrator**.\n",
       "3.  The **Orchestrator** determines this is a new software request and involves the **Sourcing Agent**.\n",
       "4.  The **Sourcing Agent** finds a supplier and involves the **Contract Agent** to review terms.\n",
       "5.  The **Contract Agent** approves, and the **Orchestrator** routes it for financial approval and creates the PO.\n",
       "6.  Later, the **Invoice Agent** matches the invoice to the PO and schedules payment.\n",
       "\n",
       "**In summary, the Agentic AI solution transforms procurement from a rigid, process-centric burden into a fluid, intelligent, and user-centric service.** It doesn't just make the old process faster; it fundamentally reimagines it, placing a collaborative AI team at the center to eliminate friction, enforce control, and unlock strategic value."
      ],
      "text/plain": [
       "<IPython.core.display.Markdown object>"
      ]
     },
     "metadata": {},
     "output_type": "display_data"
    }
   ],
   "source": [
    "display(Markdown(solution))"
   ]
  }
 ],
 "metadata": {
  "kernelspec": {
   "display_name": ".venv",
   "language": "python",
   "name": "python3"
  },
  "language_info": {
   "codemirror_mode": {
    "name": "ipython",
    "version": 3
   },
   "file_extension": ".py",
   "mimetype": "text/x-python",
   "name": "python",
   "nbconvert_exporter": "python",
   "pygments_lexer": "ipython3",
   "version": "3.12.8"
  }
 },
 "nbformat": 4,
 "nbformat_minor": 2
}
